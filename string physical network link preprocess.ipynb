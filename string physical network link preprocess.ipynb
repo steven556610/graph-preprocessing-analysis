{
 "cells": [
  {
   "cell_type": "markdown",
   "id": "817f7997",
   "metadata": {},
   "source": [
    "# enviorment (package)"
   ]
  },
  {
   "cell_type": "code",
   "execution_count": 65,
   "id": "22da3006",
   "metadata": {
    "ExecuteTime": {
     "end_time": "2022-01-18T19:10:56.284907Z",
     "start_time": "2022-01-18T19:10:56.267928Z"
    }
   },
   "outputs": [],
   "source": [
    "%matplotlib inline\n",
    "import csv\n",
    "import pandas as pd\n",
    "import numpy as np\n",
    "import networkx as nx\n",
    "import mygene"
   ]
  },
  {
   "cell_type": "markdown",
   "id": "cc6d095a",
   "metadata": {},
   "source": [
    "# material process"
   ]
  },
  {
   "cell_type": "code",
   "execution_count": 66,
   "id": "fdf0e8d7",
   "metadata": {
    "ExecuteTime": {
     "end_time": "2022-01-18T19:11:05.249525Z",
     "start_time": "2022-01-18T19:10:57.653486Z"
    }
   },
   "outputs": [
    {
     "name": "stdout",
     "output_type": "stream",
     "text": [
      "                     protein1              protein2  combined_score\n",
      "0        9606.ENSP00000000233  9606.ENSP00000003084             150\n",
      "1        9606.ENSP00000000233  9606.ENSP00000003100             215\n",
      "2        9606.ENSP00000000233  9606.ENSP00000005257             223\n",
      "3        9606.ENSP00000000233  9606.ENSP00000005340             193\n",
      "4        9606.ENSP00000000233  9606.ENSP00000006101             415\n",
      "...                       ...                   ...             ...\n",
      "8547997  9606.ENSP00000473243  9606.ENSP00000467958             150\n",
      "8547998  9606.ENSP00000473243  9606.ENSP00000468280             204\n",
      "8547999  9606.ENSP00000473243  9606.ENSP00000468367             251\n",
      "8548000  9606.ENSP00000473243  9606.ENSP00000470087             254\n",
      "8548001  9606.ENSP00000473243  9606.ENSP00000471417             153\n",
      "\n",
      "[8548002 rows x 3 columns]\n",
      "<class 'pandas.core.frame.DataFrame'>\n"
     ]
    }
   ],
   "source": [
    "physical_network = r'D:/downloads/9606.protein.links.v10.txt/9606.protein.links.v10.txt'\n",
    "network = r'D:/downloads/9606.protein.links.v10.txt/9606.protein.links.v10.txt'\n",
    "data = pd.read_csv(network,sep=\" \")\n",
    "print (data)\n",
    "print(type(data))"
   ]
  },
  {
   "cell_type": "code",
   "execution_count": 67,
   "id": "d45c1c78",
   "metadata": {
    "ExecuteTime": {
     "end_time": "2022-01-18T19:11:10.157630Z",
     "start_time": "2022-01-18T19:11:05.409031Z"
    }
   },
   "outputs": [],
   "source": [
    "data[\"protein1\"] = data['protein1'].str.lstrip(\"9609.\")\n",
    "\n",
    "data[\"protein2\"] = data['protein2'].str.lstrip(\"9609.\")\n",
    "\n",
    "data['combined_score'] = data[\"combined_score\"]/1000\n"
   ]
  },
  {
   "cell_type": "code",
   "execution_count": 68,
   "id": "1d9b91f9",
   "metadata": {
    "ExecuteTime": {
     "end_time": "2022-01-18T19:11:31.133895Z",
     "start_time": "2022-01-18T19:11:10.303159Z"
    }
   },
   "outputs": [],
   "source": [
    "type(data['combined_score'][1])\n",
    "data.to_csv(r'../data/STRINGv10Cut9606.txt', header=['#protein1','protein2','combined_score'], index=None, sep=' ', mode='w')\n",
    "#如果沒有在protein1前面加上#的話，會讓下一步的讀檔出問題\n"
   ]
  },
  {
   "cell_type": "code",
   "execution_count": 69,
   "id": "b202806d",
   "metadata": {
    "ExecuteTime": {
     "end_time": "2022-01-18T19:12:17.966419Z",
     "start_time": "2022-01-18T19:11:31.274105Z"
    }
   },
   "outputs": [],
   "source": [
    "#check dataframe to graph，如果設定graph()的話，好像會吃掉一些edge\n",
    "#所以要設定成digraph\n",
    "#但不知道為什麼，沒有辦法加上權重\n",
    "#透過先寫檔再讀檔的方式來解決問題\n",
    "\n",
    "network_file = open(r'../data/STRINGv10Cut9606.txt','rb')\n",
    "G = nx.read_weighted_edgelist(network_file,comments='#',create_using=nx.DiGraph())\n",
    "\n",
    "#G = nx.from_pandas_edgelist(data,'protein1','protein2',edge_attr='combined_score',create_using=nx.DiGraph()) #一直沒辦法加入權重的寫法"
   ]
  },
  {
   "cell_type": "code",
   "execution_count": 70,
   "id": "5c87f90e",
   "metadata": {
    "ExecuteTime": {
     "end_time": "2022-01-18T19:12:18.153891Z",
     "start_time": "2022-01-18T19:12:18.109011Z"
    }
   },
   "outputs": [
    {
     "name": "stdout",
     "output_type": "stream",
     "text": [
      "Name: \n",
      "Type: DiGraph\n",
      "Number of nodes: 19247\n",
      "Number of edges: 8548002\n",
      "Average in degree: 444.1213\n",
      "Average out degree: 444.1213\n"
     ]
    }
   ],
   "source": [
    "print(nx.info(G))"
   ]
  },
  {
   "cell_type": "code",
   "execution_count": 71,
   "id": "4e98fccc",
   "metadata": {
    "ExecuteTime": {
     "end_time": "2022-01-18T19:12:20.452724Z",
     "start_time": "2022-01-18T19:12:18.280553Z"
    }
   },
   "outputs": [
    {
     "name": "stdout",
     "output_type": "stream",
     "text": [
      "True\n"
     ]
    }
   ],
   "source": [
    "print(nx.is_weighted(G))"
   ]
  },
  {
   "cell_type": "code",
   "execution_count": 72,
   "id": "36eef199",
   "metadata": {
    "ExecuteTime": {
     "end_time": "2022-01-18T19:12:20.590751Z",
     "start_time": "2022-01-18T19:12:20.562399Z"
    }
   },
   "outputs": [
    {
     "ename": "NetworkXError",
     "evalue": "Edge ('ENSP00000000233', 'ENSP00000379496') does not exist.",
     "output_type": "error",
     "traceback": [
      "\u001b[1;31m---------------------------------------------------------------------------\u001b[0m",
      "\u001b[1;31mNetworkXError\u001b[0m                             Traceback (most recent call last)",
      "\u001b[1;32m<ipython-input-72-dad9f70000f5>\u001b[0m in \u001b[0;36m<module>\u001b[1;34m\u001b[0m\n\u001b[1;32m----> 1\u001b[1;33m \u001b[0mprint\u001b[0m\u001b[1;33m(\u001b[0m\u001b[0mnx\u001b[0m\u001b[1;33m.\u001b[0m\u001b[0mis_weighted\u001b[0m\u001b[1;33m(\u001b[0m\u001b[0mG\u001b[0m\u001b[1;33m,\u001b[0m\u001b[1;33m(\u001b[0m\u001b[1;34m'ENSP00000000233'\u001b[0m\u001b[1;33m,\u001b[0m\u001b[1;34m'ENSP00000379496'\u001b[0m\u001b[1;33m)\u001b[0m\u001b[1;33m)\u001b[0m\u001b[1;33m)\u001b[0m\u001b[1;33m\u001b[0m\u001b[1;33m\u001b[0m\u001b[0m\n\u001b[0m",
      "\u001b[1;32m~\\Anaconda3\\lib\\site-packages\\networkx\\classes\\function.py\u001b[0m in \u001b[0;36mis_weighted\u001b[1;34m(G, edge, weight)\u001b[0m\n\u001b[0;32m   1000\u001b[0m         \u001b[1;32mif\u001b[0m \u001b[0mdata\u001b[0m \u001b[1;32mis\u001b[0m \u001b[1;32mNone\u001b[0m\u001b[1;33m:\u001b[0m\u001b[1;33m\u001b[0m\u001b[1;33m\u001b[0m\u001b[0m\n\u001b[0;32m   1001\u001b[0m             \u001b[0mmsg\u001b[0m \u001b[1;33m=\u001b[0m \u001b[1;34mf\"Edge {edge!r} does not exist.\"\u001b[0m\u001b[1;33m\u001b[0m\u001b[1;33m\u001b[0m\u001b[0m\n\u001b[1;32m-> 1002\u001b[1;33m             \u001b[1;32mraise\u001b[0m \u001b[0mnx\u001b[0m\u001b[1;33m.\u001b[0m\u001b[0mNetworkXError\u001b[0m\u001b[1;33m(\u001b[0m\u001b[0mmsg\u001b[0m\u001b[1;33m)\u001b[0m\u001b[1;33m\u001b[0m\u001b[1;33m\u001b[0m\u001b[0m\n\u001b[0m\u001b[0;32m   1003\u001b[0m         \u001b[1;32mreturn\u001b[0m \u001b[0mweight\u001b[0m \u001b[1;32min\u001b[0m \u001b[0mdata\u001b[0m\u001b[1;33m\u001b[0m\u001b[1;33m\u001b[0m\u001b[0m\n\u001b[0;32m   1004\u001b[0m \u001b[1;33m\u001b[0m\u001b[0m\n",
      "\u001b[1;31mNetworkXError\u001b[0m: Edge ('ENSP00000000233', 'ENSP00000379496') does not exist."
     ]
    }
   ],
   "source": [
    "print(nx.is_weighted(G,('ENSP00000000233','ENSP00000379496')))"
   ]
  },
  {
   "cell_type": "code",
   "execution_count": 73,
   "id": "abb86ca9",
   "metadata": {
    "ExecuteTime": {
     "end_time": "2022-01-18T19:12:35.436521Z",
     "start_time": "2022-01-18T19:12:33.765733Z"
    }
   },
   "outputs": [],
   "source": [
    "peptideID = data[\"protein1\"].append(data[\"protein2\"]).unique()"
   ]
  },
  {
   "cell_type": "code",
   "execution_count": 74,
   "id": "be9a17e9",
   "metadata": {
    "ExecuteTime": {
     "end_time": "2022-01-18T19:12:35.606444Z",
     "start_time": "2022-01-18T19:12:35.594462Z"
    }
   },
   "outputs": [
    {
     "name": "stdout",
     "output_type": "stream",
     "text": [
      "19247\n"
     ]
    },
    {
     "data": {
      "text/plain": [
       "array(['ENSP00000000233', 'ENSP00000000412', 'ENSP00000000442', ...,\n",
       "       'ENSP00000473200', 'ENSP00000473233', 'ENSP00000473243'],\n",
       "      dtype=object)"
      ]
     },
     "execution_count": 74,
     "metadata": {},
     "output_type": "execute_result"
    }
   ],
   "source": [
    "print(len(peptideID))\n",
    "peptideID"
   ]
  },
  {
   "cell_type": "markdown",
   "id": "87dd23d8",
   "metadata": {
    "heading_collapsed": true
   },
   "source": [
    "## high  confidence? to nature paper ?300w edge?"
   ]
  },
  {
   "cell_type": "markdown",
   "id": "afd36276",
   "metadata": {},
   "source": [
    "# tranfer peptideID to geneID"
   ]
  },
  {
   "cell_type": "code",
   "execution_count": 75,
   "id": "57c4cef4",
   "metadata": {
    "ExecuteTime": {
     "end_time": "2022-01-18T19:13:28.555577Z",
     "start_time": "2022-01-18T19:12:38.820213Z"
    }
   },
   "outputs": [
    {
     "name": "stdout",
     "output_type": "stream",
     "text": [
      "querying 1-1000...done.\n",
      "querying 1001-2000...done.\n",
      "querying 2001-3000...done.\n",
      "querying 3001-4000...done.\n",
      "querying 4001-5000...done.\n",
      "querying 5001-6000...done.\n",
      "querying 6001-7000...done.\n",
      "querying 7001-8000...done.\n",
      "querying 8001-9000...done.\n",
      "querying 9001-10000...done.\n",
      "querying 10001-11000...done.\n",
      "querying 11001-12000...done.\n",
      "querying 12001-13000...done.\n",
      "querying 13001-14000...done.\n",
      "querying 14001-15000...done.\n",
      "querying 15001-16000...done.\n",
      "querying 16001-17000...done.\n",
      "querying 17001-18000...done.\n",
      "querying 18001-19000...done.\n",
      "querying 19001-19247...done.\n",
      "Finished.\n",
      "1686 input query terms found no hit:\n",
      "\t['ENSP00000004921', 'ENSP00000005905', 'ENSP00000006101', 'ENSP00000035383', 'ENSP00000053469', 'ENS\n"
     ]
    }
   ],
   "source": [
    "mg = mygene.MyGeneInfo()\n",
    "results_string_physical= mg.querymany(peptideID, scopes='ensembl.protein',fields = 'symbol',species='human',returnall=True,as_dataframe=True,df_index=True,verbose=True)\n",
    "#19000個輸入，然後有608個找不到transfer gene id，但是這邊的數字，怎麼會比high confidence score的部分還要少...\n",
    "#del peptideID"
   ]
  },
  {
   "cell_type": "code",
   "execution_count": 76,
   "id": "e29b5687",
   "metadata": {
    "ExecuteTime": {
     "end_time": "2022-01-18T19:13:28.713959Z",
     "start_time": "2022-01-18T19:13:28.701025Z"
    }
   },
   "outputs": [
    {
     "name": "stdout",
     "output_type": "stream",
     "text": [
      "query\n",
      "ENSP00000000233       ARF5\n",
      "ENSP00000000412       M6PR\n",
      "ENSP00000000442      ESRRA\n",
      "ENSP00000001008      FKBP4\n",
      "ENSP00000001146    CYP26B1\n",
      "                    ...   \n",
      "ENSP00000473172     RUVBL2\n",
      "ENSP00000473193        NaN\n",
      "ENSP00000473200        NaN\n",
      "ENSP00000473233        NaN\n",
      "ENSP00000473243        NaN\n",
      "Name: symbol, Length: 19247, dtype: object\n"
     ]
    }
   ],
   "source": [
    "print(results_string_physical['out']['symbol'])"
   ]
  },
  {
   "cell_type": "code",
   "execution_count": 77,
   "id": "7cd784ab",
   "metadata": {
    "ExecuteTime": {
     "end_time": "2022-01-18T19:13:28.871423Z",
     "start_time": "2022-01-18T19:13:28.856465Z"
    }
   },
   "outputs": [
    {
     "name": "stdout",
     "output_type": "stream",
     "text": [
      "{'out':                              _id     _score   symbol notfound\n",
      "query                                                        \n",
      "ENSP00000000233              381  28.461329     ARF5      NaN\n",
      "ENSP00000000412             4074  28.466175     M6PR      NaN\n",
      "ENSP00000000442             2101  27.552513    ESRRA      NaN\n",
      "ENSP00000001008             2288  27.556425    FKBP4      NaN\n",
      "ENSP00000001146            56603  28.468815  CYP26B1      NaN\n",
      "...                          ...        ...      ...      ...\n",
      "ENSP00000473172            10856  28.468815   RUVBL2      NaN\n",
      "ENSP00000473193              NaN        NaN      NaN     True\n",
      "ENSP00000473200  ENSG00000282246  28.467943      NaN      NaN\n",
      "ENSP00000473233  ENSG00000142539  28.463629      NaN      NaN\n",
      "ENSP00000473243              NaN        NaN      NaN     True\n",
      "\n",
      "[19247 rows x 4 columns], 'dup': Empty DataFrame\n",
      "Columns: [query, duplicate hits]\n",
      "Index: [], 'missing':                 query\n",
      "0     ENSP00000004921\n",
      "1     ENSP00000005905\n",
      "2     ENSP00000006101\n",
      "3     ENSP00000035383\n",
      "4     ENSP00000053469\n",
      "...               ...\n",
      "1681  ENSP00000472951\n",
      "1682  ENSP00000473005\n",
      "1683  ENSP00000473092\n",
      "1684  ENSP00000473193\n",
      "1685  ENSP00000473243\n",
      "\n",
      "[1686 rows x 1 columns]}\n"
     ]
    }
   ],
   "source": [
    "print(results_string_physical)"
   ]
  },
  {
   "cell_type": "code",
   "execution_count": 78,
   "id": "8ec14d36",
   "metadata": {
    "ExecuteTime": {
     "end_time": "2022-01-18T19:13:29.030505Z",
     "start_time": "2022-01-18T19:13:29.015545Z"
    }
   },
   "outputs": [],
   "source": [
    "string_physical_IDTransfer = results_string_physical['out'].reset_index()"
   ]
  },
  {
   "cell_type": "code",
   "execution_count": 79,
   "id": "c3a53451",
   "metadata": {
    "ExecuteTime": {
     "end_time": "2022-01-18T19:13:29.173891Z",
     "start_time": "2022-01-18T19:13:29.160158Z"
    }
   },
   "outputs": [],
   "source": [
    "#string_physical_IDTransfer = string_physical_IDTransfer.rename(mapper={'ensembl.gene':'ensembl_gene'},axis=1)"
   ]
  },
  {
   "cell_type": "code",
   "execution_count": 80,
   "id": "a85b8b3c",
   "metadata": {
    "ExecuteTime": {
     "end_time": "2022-01-18T19:13:29.313851Z",
     "start_time": "2022-01-18T19:13:29.299879Z"
    }
   },
   "outputs": [
    {
     "name": "stdout",
     "output_type": "stream",
     "text": [
      "17356\n"
     ]
    }
   ],
   "source": [
    "#get whole ensembl gene id \n",
    "string_physical_gene_id = string_physical_IDTransfer['symbol'].unique()\n",
    "print(len(string_physical_gene_id))"
   ]
  },
  {
   "cell_type": "code",
   "execution_count": 81,
   "id": "59fb6ecb",
   "metadata": {
    "ExecuteTime": {
     "end_time": "2022-01-18T19:13:29.454663Z",
     "start_time": "2022-01-18T19:13:29.440704Z"
    }
   },
   "outputs": [
    {
     "name": "stdout",
     "output_type": "stream",
     "text": [
      "                 query   symbol\n",
      "0      ENSP00000000233     ARF5\n",
      "1      ENSP00000000412     M6PR\n",
      "2      ENSP00000000442    ESRRA\n",
      "3      ENSP00000001008    FKBP4\n",
      "4      ENSP00000001146  CYP26B1\n",
      "...                ...      ...\n",
      "19242  ENSP00000473172   RUVBL2\n",
      "19243  ENSP00000473193      NaN\n",
      "19244  ENSP00000473200      NaN\n",
      "19245  ENSP00000473233      NaN\n",
      "19246  ENSP00000473243      NaN\n",
      "\n",
      "[19247 rows x 2 columns]\n"
     ]
    }
   ],
   "source": [
    "string_physical_ensembl_gene_list = string_physical_IDTransfer[['query','symbol']]\n",
    "print(string_physical_ensembl_gene_list)"
   ]
  },
  {
   "cell_type": "code",
   "execution_count": 82,
   "id": "6231766b",
   "metadata": {
    "ExecuteTime": {
     "end_time": "2022-01-18T19:13:29.624576Z",
     "start_time": "2022-01-18T19:13:29.610457Z"
    }
   },
   "outputs": [
    {
     "name": "stdout",
     "output_type": "stream",
     "text": [
      "<class 'pandas.core.series.Series'>\n",
      "                query\n",
      "0     ENSP00000004921\n",
      "1     ENSP00000005905\n",
      "2     ENSP00000006101\n",
      "3     ENSP00000035383\n",
      "4     ENSP00000053469\n",
      "...               ...\n",
      "1681  ENSP00000472951\n",
      "1682  ENSP00000473005\n",
      "1683  ENSP00000473092\n",
      "1684  ENSP00000473193\n",
      "1685  ENSP00000473243\n",
      "\n",
      "[1686 rows x 1 columns]\n"
     ]
    }
   ],
   "source": [
    "#relabel node\n",
    "print(type(results_string_physical['missing']['query']))\n",
    "print(results_string_physical['missing'])"
   ]
  },
  {
   "cell_type": "code",
   "execution_count": 83,
   "id": "7f5e4486",
   "metadata": {
    "ExecuteTime": {
     "end_time": "2022-01-18T19:13:45.832357Z",
     "start_time": "2022-01-18T19:13:29.770178Z"
    }
   },
   "outputs": [
    {
     "name": "stdout",
     "output_type": "stream",
     "text": [
      "Name: \n",
      "Type: DiGraph\n",
      "Number of nodes: 19247\n",
      "Number of edges: 8548002\n",
      "Average in degree: 444.1213\n",
      "Average out degree: 444.1213\n"
     ]
    }
   ],
   "source": [
    "string_physical_network = G.copy()\n",
    "#string_physical_ensembl_gene_list = string_physical_ensembl_gene_list.query('ensembl_gene' != 'NaN')\n",
    "print(nx.info(string_physical_network))\n"
   ]
  },
  {
   "cell_type": "code",
   "execution_count": 84,
   "id": "3e75ed76",
   "metadata": {
    "ExecuteTime": {
     "end_time": "2022-01-18T19:13:47.100873Z",
     "start_time": "2022-01-18T19:13:45.995465Z"
    }
   },
   "outputs": [
    {
     "name": "stdout",
     "output_type": "stream",
     "text": [
      "Name: \n",
      "Type: DiGraph\n",
      "Number of nodes: 17561\n",
      "Number of edges: 7395152\n",
      "Average in degree: 421.1122\n",
      "Average out degree: 421.1122\n"
     ]
    }
   ],
   "source": [
    "#for i in range(len(results_string_physical['missing'])):\n",
    "    #print(results_string_physical['missing'].iloc[i])\n",
    "missing = results_string_physical['missing']['query'].tolist()\n",
    "for i in missing:\n",
    "    string_physical_network.remove_node(i)\n",
    "print(nx.info(string_physical_network))"
   ]
  },
  {
   "cell_type": "code",
   "execution_count": 85,
   "id": "11e215a4",
   "metadata": {
    "ExecuteTime": {
     "end_time": "2022-01-18T19:13:49.214652Z",
     "start_time": "2022-01-18T19:13:47.276832Z"
    }
   },
   "outputs": [
    {
     "name": "stdout",
     "output_type": "stream",
     "text": [
      "True\n"
     ]
    }
   ],
   "source": [
    "print(nx.is_weighted(string_physical_network))"
   ]
  },
  {
   "cell_type": "markdown",
   "id": "50a090b9",
   "metadata": {},
   "source": [
    "# rename the dataframe"
   ]
  },
  {
   "cell_type": "markdown",
   "id": "39c2f938",
   "metadata": {},
   "source": [
    "先建構成網路，然後再把前面對應到的字詞抽出來，然後mapping上去"
   ]
  },
  {
   "cell_type": "code",
   "execution_count": null,
   "id": "594590a9",
   "metadata": {
    "ExecuteTime": {
     "end_time": "2022-01-18T19:12:20.660564Z",
     "start_time": "2022-01-18T19:11:57.514Z"
    }
   },
   "outputs": [],
   "source": [
    "print(string_physical_ensembl_gene_list)"
   ]
  },
  {
   "cell_type": "code",
   "execution_count": null,
   "id": "57142da0",
   "metadata": {
    "ExecuteTime": {
     "end_time": "2022-01-18T19:12:20.662558Z",
     "start_time": "2022-01-18T19:11:58.379Z"
    }
   },
   "outputs": [],
   "source": [
    "string_physical_ensembl_gene_list = string_physical_ensembl_gene_list[['query','symbol']]\n",
    "print(string_physical_ensembl_gene_list)"
   ]
  },
  {
   "cell_type": "code",
   "execution_count": null,
   "id": "95f715c8",
   "metadata": {
    "ExecuteTime": {
     "end_time": "2022-01-18T19:12:20.666548Z",
     "start_time": "2022-01-18T19:12:00.926Z"
    }
   },
   "outputs": [],
   "source": [
    "string_physical_ensembl_gene_list['symbol'] = string_physical_ensembl_gene_list['symbol'].map(np.nan_to_num)\n",
    "print(string_physical_ensembl_gene_list)"
   ]
  },
  {
   "cell_type": "code",
   "execution_count": null,
   "id": "6e6f6b5d",
   "metadata": {
    "ExecuteTime": {
     "end_time": "2022-01-18T19:12:20.669570Z",
     "start_time": "2022-01-18T19:12:01.484Z"
    }
   },
   "outputs": [],
   "source": [
    "i = string_physical_ensembl_gene_list[string_physical_ensembl_gene_list.symbol == 0 ].index\n",
    "print(len(i))"
   ]
  },
  {
   "cell_type": "code",
   "execution_count": null,
   "id": "ff826024",
   "metadata": {
    "ExecuteTime": {
     "end_time": "2022-01-18T19:12:20.671535Z",
     "start_time": "2022-01-18T19:12:02.129Z"
    }
   },
   "outputs": [],
   "source": [
    "string_physical_ensembl_gene_list = string_physical_ensembl_gene_list.drop(i)\n",
    "print(string_physical_ensembl_gene_list)"
   ]
  },
  {
   "cell_type": "code",
   "execution_count": null,
   "id": "835a8827",
   "metadata": {
    "ExecuteTime": {
     "end_time": "2022-01-18T19:12:20.677519Z",
     "start_time": "2022-01-18T19:12:02.715Z"
    }
   },
   "outputs": [],
   "source": [
    "string_physical_ensembl_gene_dict = string_physical_ensembl_gene_list.set_index('query').T.to_dict('record')\n",
    "print(string_physical_ensembl_gene_dict)"
   ]
  },
  {
   "cell_type": "code",
   "execution_count": null,
   "id": "ca2c4b69",
   "metadata": {
    "ExecuteTime": {
     "end_time": "2022-01-18T19:12:20.680511Z",
     "start_time": "2022-01-18T19:12:04.178Z"
    }
   },
   "outputs": [],
   "source": [
    "print(type(string_physical_ensembl_gene_dict))\n",
    "string_physical_ensembl_gene_dict = string_physical_ensembl_gene_dict[0]\n",
    "print(type(string_physical_ensembl_gene_dict))"
   ]
  },
  {
   "cell_type": "code",
   "execution_count": null,
   "id": "9531b07f",
   "metadata": {
    "ExecuteTime": {
     "end_time": "2022-01-18T19:12:20.685498Z",
     "start_time": "2022-01-18T19:12:06.808Z"
    }
   },
   "outputs": [],
   "source": [
    "print(type(string_physical_network))\n",
    "string_physical_network = nx.relabel_nodes(string_physical_network,string_physical_ensembl_gene_dict)"
   ]
  },
  {
   "cell_type": "code",
   "execution_count": null,
   "id": "5789e8ac",
   "metadata": {
    "ExecuteTime": {
     "end_time": "2022-01-18T19:12:20.693478Z",
     "start_time": "2022-01-18T19:12:14.348Z"
    }
   },
   "outputs": [],
   "source": [
    "###需要修改#####\n",
    "node = list(nx.nodes(string_physical_network))\n",
    "a = node.copy()\n",
    "for i in a:\n",
    "    if i.startswith(\"ENSP\"):\n",
    "        string_physical_network.remove_node(i)"
   ]
  },
  {
   "cell_type": "code",
   "execution_count": null,
   "id": "edfbec9c",
   "metadata": {
    "ExecuteTime": {
     "end_time": "2022-01-18T19:12:20.695472Z",
     "start_time": "2022-01-18T19:12:15.379Z"
    }
   },
   "outputs": [],
   "source": [
    "print(nx.info(string_physical_network))\n",
    "string_physical_network_node_list= string_physical_network.nodes()\n",
    "print(len(string_physical_network_node_list))"
   ]
  },
  {
   "cell_type": "code",
   "execution_count": 45,
   "id": "53024e33",
   "metadata": {
    "ExecuteTime": {
     "end_time": "2022-01-17T16:42:10.003230Z",
     "start_time": "2022-01-17T16:41:52.302237Z"
    }
   },
   "outputs": [],
   "source": [
    "#write STRING-geneID network file\n",
    "nx.readwrite.edgelist.write_weighted_edgelist(G=string_physical_network,path='../data/STRING10_network_process_GeneSymbol.txt',delimiter='\\t')"
   ]
  },
  {
   "cell_type": "markdown",
   "id": "295b5904",
   "metadata": {},
   "source": [
    "# Construct Network"
   ]
  },
  {
   "cell_type": "code",
   "execution_count": 63,
   "id": "651dd9c2",
   "metadata": {
    "ExecuteTime": {
     "end_time": "2022-01-18T19:10:21.635075Z",
     "start_time": "2022-01-18T19:10:21.597031Z"
    }
   },
   "outputs": [
    {
     "name": "stdout",
     "output_type": "stream",
     "text": [
      "Name: \n",
      "Type: DiGraph\n",
      "Number of nodes: 17351\n",
      "Number of edges: 7238712\n",
      "Average in degree: 417.1928\n",
      "Average out degree: 417.1928\n"
     ]
    }
   ],
   "source": [
    "print(nx.info(string_physical_network))"
   ]
  },
  {
   "cell_type": "code",
   "execution_count": 64,
   "id": "0c297bb8",
   "metadata": {
    "ExecuteTime": {
     "end_time": "2022-01-18T19:10:22.608538Z",
     "start_time": "2022-01-18T19:10:22.564655Z"
    }
   },
   "outputs": [
    {
     "name": "stdout",
     "output_type": "stream",
     "text": [
      "Name: \n",
      "Type: DiGraph\n",
      "Number of nodes: 17351\n",
      "Number of edges: 7238712\n",
      "Average in degree: 417.1928\n",
      "Average out degree: 417.1928\n"
     ]
    }
   ],
   "source": [
    "string_physical_network.remove_nodes_from(list(nx.isolates(string_physical_network)))\n",
    "print(nx.info(string_physical_network))"
   ]
  },
  {
   "cell_type": "code",
   "execution_count": 58,
   "id": "51aa9ac2",
   "metadata": {
    "ExecuteTime": {
     "end_time": "2022-01-17T17:44:54.740209Z",
     "start_time": "2022-01-17T17:44:24.791530Z"
    }
   },
   "outputs": [
    {
     "name": "stdout",
     "output_type": "stream",
     "text": [
      "17351\n"
     ]
    }
   ],
   "source": [
    "string_physical_network_undirected = string_physical_network.to_undirected()\n",
    "largest_cc_test = max(nx.connected_components(string_physical_network_undirected), key=len)\n",
    "print(len(largest_cc_test))"
   ]
  },
  {
   "cell_type": "code",
   "execution_count": 60,
   "id": "af762964",
   "metadata": {
    "ExecuteTime": {
     "end_time": "2022-01-17T17:46:26.635638Z",
     "start_time": "2022-01-17T17:46:26.607713Z"
    }
   },
   "outputs": [
    {
     "ename": "NetworkXError",
     "evalue": "The node ENSP00000347689 is not in the digraph.",
     "output_type": "error",
     "traceback": [
      "\u001b[1;31m---------------------------------------------------------------------------\u001b[0m",
      "\u001b[1;31mKeyError\u001b[0m                                  Traceback (most recent call last)",
      "\u001b[1;32m~\\Anaconda3\\lib\\site-packages\\networkx\\classes\\digraph.py\u001b[0m in \u001b[0;36mremove_node\u001b[1;34m(self, n)\u001b[0m\n\u001b[0;32m    525\u001b[0m         \u001b[1;32mtry\u001b[0m\u001b[1;33m:\u001b[0m\u001b[1;33m\u001b[0m\u001b[1;33m\u001b[0m\u001b[0m\n\u001b[1;32m--> 526\u001b[1;33m             \u001b[0mnbrs\u001b[0m \u001b[1;33m=\u001b[0m \u001b[0mself\u001b[0m\u001b[1;33m.\u001b[0m\u001b[0m_succ\u001b[0m\u001b[1;33m[\u001b[0m\u001b[0mn\u001b[0m\u001b[1;33m]\u001b[0m\u001b[1;33m\u001b[0m\u001b[1;33m\u001b[0m\u001b[0m\n\u001b[0m\u001b[0;32m    527\u001b[0m             \u001b[1;32mdel\u001b[0m \u001b[0mself\u001b[0m\u001b[1;33m.\u001b[0m\u001b[0m_node\u001b[0m\u001b[1;33m[\u001b[0m\u001b[0mn\u001b[0m\u001b[1;33m]\u001b[0m\u001b[1;33m\u001b[0m\u001b[1;33m\u001b[0m\u001b[0m\n",
      "\u001b[1;31mKeyError\u001b[0m: 'ENSP00000347689'",
      "\nThe above exception was the direct cause of the following exception:\n",
      "\u001b[1;31mNetworkXError\u001b[0m                             Traceback (most recent call last)",
      "\u001b[1;32m<ipython-input-60-1e2bb514e1b3>\u001b[0m in \u001b[0;36m<module>\u001b[1;34m\u001b[0m\n\u001b[0;32m      5\u001b[0m \u001b[1;32mfor\u001b[0m \u001b[0mk\u001b[0m \u001b[1;32min\u001b[0m \u001b[0mnode\u001b[0m\u001b[1;33m:\u001b[0m\u001b[1;33m\u001b[0m\u001b[1;33m\u001b[0m\u001b[0m\n\u001b[0;32m      6\u001b[0m     \u001b[1;32mif\u001b[0m \u001b[0mk\u001b[0m \u001b[1;32min\u001b[0m \u001b[0mnode_not_in_large_cc\u001b[0m\u001b[1;33m:\u001b[0m\u001b[1;33m\u001b[0m\u001b[1;33m\u001b[0m\u001b[0m\n\u001b[1;32m----> 7\u001b[1;33m         \u001b[0mstring_physical_network\u001b[0m\u001b[1;33m.\u001b[0m\u001b[0mremove_node\u001b[0m\u001b[1;33m(\u001b[0m\u001b[0mk\u001b[0m\u001b[1;33m)\u001b[0m\u001b[1;33m\u001b[0m\u001b[1;33m\u001b[0m\u001b[0m\n\u001b[0m\u001b[0;32m      8\u001b[0m \u001b[0mprint\u001b[0m\u001b[1;33m(\u001b[0m\u001b[0mnx\u001b[0m\u001b[1;33m.\u001b[0m\u001b[0minfo\u001b[0m\u001b[1;33m(\u001b[0m\u001b[0mnetwork_test\u001b[0m\u001b[1;33m)\u001b[0m\u001b[1;33m)\u001b[0m\u001b[1;33m\u001b[0m\u001b[1;33m\u001b[0m\u001b[0m\n",
      "\u001b[1;32m~\\Anaconda3\\lib\\site-packages\\networkx\\classes\\digraph.py\u001b[0m in \u001b[0;36mremove_node\u001b[1;34m(self, n)\u001b[0m\n\u001b[0;32m    527\u001b[0m             \u001b[1;32mdel\u001b[0m \u001b[0mself\u001b[0m\u001b[1;33m.\u001b[0m\u001b[0m_node\u001b[0m\u001b[1;33m[\u001b[0m\u001b[0mn\u001b[0m\u001b[1;33m]\u001b[0m\u001b[1;33m\u001b[0m\u001b[1;33m\u001b[0m\u001b[0m\n\u001b[0;32m    528\u001b[0m         \u001b[1;32mexcept\u001b[0m \u001b[0mKeyError\u001b[0m \u001b[1;32mas\u001b[0m \u001b[0me\u001b[0m\u001b[1;33m:\u001b[0m  \u001b[1;31m# NetworkXError if n not in self\u001b[0m\u001b[1;33m\u001b[0m\u001b[1;33m\u001b[0m\u001b[0m\n\u001b[1;32m--> 529\u001b[1;33m             \u001b[1;32mraise\u001b[0m \u001b[0mNetworkXError\u001b[0m\u001b[1;33m(\u001b[0m\u001b[1;34mf\"The node {n} is not in the digraph.\"\u001b[0m\u001b[1;33m)\u001b[0m \u001b[1;32mfrom\u001b[0m \u001b[0me\u001b[0m\u001b[1;33m\u001b[0m\u001b[1;33m\u001b[0m\u001b[0m\n\u001b[0m\u001b[0;32m    530\u001b[0m         \u001b[1;32mfor\u001b[0m \u001b[0mu\u001b[0m \u001b[1;32min\u001b[0m \u001b[0mnbrs\u001b[0m\u001b[1;33m:\u001b[0m\u001b[1;33m\u001b[0m\u001b[1;33m\u001b[0m\u001b[0m\n\u001b[0;32m    531\u001b[0m             \u001b[1;32mdel\u001b[0m \u001b[0mself\u001b[0m\u001b[1;33m.\u001b[0m\u001b[0m_pred\u001b[0m\u001b[1;33m[\u001b[0m\u001b[0mu\u001b[0m\u001b[1;33m]\u001b[0m\u001b[1;33m[\u001b[0m\u001b[0mn\u001b[0m\u001b[1;33m]\u001b[0m  \u001b[1;31m# remove all edges n-u in digraph\u001b[0m\u001b[1;33m\u001b[0m\u001b[1;33m\u001b[0m\u001b[0m\n",
      "\u001b[1;31mNetworkXError\u001b[0m: The node ENSP00000347689 is not in the digraph."
     ]
    }
   ],
   "source": [
    "node_not_in_large_cc = []\n",
    "for i in node:\n",
    "    if i not in largest_cc_test:\n",
    "        node_not_in_large_cc.append(i)\n",
    "for k in node:\n",
    "    if k in node_not_in_large_cc:\n",
    "        string_physical_network.remove_node(k)\n",
    "print(nx.info(network_test))"
   ]
  },
  {
   "cell_type": "code",
   "execution_count": 61,
   "id": "fd81bc97",
   "metadata": {
    "ExecuteTime": {
     "end_time": "2022-01-18T19:06:27.914206Z",
     "start_time": "2022-01-18T19:05:50.304158Z"
    }
   },
   "outputs": [
    {
     "name": "stdout",
     "output_type": "stream",
     "text": [
      "Name: \n",
      "Type: DiGraph\n",
      "Number of nodes: 17351\n",
      "Number of edges: 508930\n",
      "Average in degree:  29.3315\n",
      "Average out degree:  29.3315\n"
     ]
    }
   ],
   "source": [
    "network_test = string_physical_network.copy()\n",
    "for (u, v, wt) in string_physical_network.edges.data('weight'):\n",
    "    if wt < 0.7:\n",
    "        network_test.remove_edge(u, v)\n",
    "print(nx.info(network_test))"
   ]
  },
  {
   "cell_type": "code",
   "execution_count": 62,
   "id": "2685507b",
   "metadata": {
    "ExecuteTime": {
     "end_time": "2022-01-18T19:08:12.759581Z",
     "start_time": "2022-01-18T19:08:12.681792Z"
    }
   },
   "outputs": [
    {
     "name": "stdout",
     "output_type": "stream",
     "text": [
      "Name: \n",
      "Type: DiGraph\n",
      "Number of nodes: 14147\n",
      "Number of edges: 508930\n",
      "Average in degree:  35.9744\n",
      "Average out degree:  35.9744\n"
     ]
    }
   ],
   "source": [
    "network_test.remove_nodes_from(list(nx.isolates(network_test)))\n",
    "print(nx.info(network_test))"
   ]
  },
  {
   "cell_type": "code",
   "execution_count": null,
   "id": "3d16db0a",
   "metadata": {},
   "outputs": [],
   "source": []
  }
 ],
 "metadata": {
  "kernelspec": {
   "display_name": "Python 3",
   "language": "python",
   "name": "python3"
  },
  "language_info": {
   "codemirror_mode": {
    "name": "ipython",
    "version": 3
   },
   "file_extension": ".py",
   "mimetype": "text/x-python",
   "name": "python",
   "nbconvert_exporter": "python",
   "pygments_lexer": "ipython3",
   "version": "3.8.8"
  },
  "toc": {
   "base_numbering": 1,
   "nav_menu": {},
   "number_sections": true,
   "sideBar": true,
   "skip_h1_title": false,
   "title_cell": "Table of Contents",
   "title_sidebar": "Contents",
   "toc_cell": false,
   "toc_position": {},
   "toc_section_display": true,
   "toc_window_display": false
  },
  "varInspector": {
   "cols": {
    "lenName": 16,
    "lenType": 16,
    "lenVar": 40
   },
   "kernels_config": {
    "python": {
     "delete_cmd_postfix": "",
     "delete_cmd_prefix": "del ",
     "library": "var_list.py",
     "varRefreshCmd": "print(var_dic_list())"
    },
    "r": {
     "delete_cmd_postfix": ") ",
     "delete_cmd_prefix": "rm(",
     "library": "var_list.r",
     "varRefreshCmd": "cat(var_dic_list()) "
    }
   },
   "types_to_exclude": [
    "module",
    "function",
    "builtin_function_or_method",
    "instance",
    "_Feature"
   ],
   "window_display": false
  }
 },
 "nbformat": 4,
 "nbformat_minor": 5
}
